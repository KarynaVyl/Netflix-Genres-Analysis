{
  "nbformat": 4,
  "nbformat_minor": 0,
  "metadata": {
    "colab": {
      "provenance": [],
      "authorship_tag": "ABX9TyOqHdP++Xxt8WWspHxPQiMJ",
      "include_colab_link": true
    },
    "kernelspec": {
      "name": "python3",
      "display_name": "Python 3"
    },
    "language_info": {
      "name": "python"
    }
  },
  "cells": [
    {
      "cell_type": "markdown",
      "metadata": {
        "id": "view-in-github",
        "colab_type": "text"
      },
      "source": [
        "<a href=\"https://colab.research.google.com/github/KarynaVyl/KarynaVyl/blob/main/netflix-genres-analysis.ipynb\" target=\"_parent\"><img src=\"https://colab.research.google.com/assets/colab-badge.svg\" alt=\"Open In Colab\"/></a>"
      ]
    },
    {
      "cell_type": "code",
      "execution_count": null,
      "metadata": {
        "id": "MNg_YDCt76Vr"
      },
      "outputs": [],
      "source": [
        "# Імпортуємо необхідні бібліотеки\n",
        "import pandas as pd\n",
        "import matplotlib.pyplot as plt\n",
        "import seaborn as sns\n",
        "\n",
        "# Налаштовуємо стиль графіків\n",
        "sns.set(style=\"whitegrid\")\n",
        "\n",
        "# Завантажуємо датасет\n",
        "df = pd.read_csv('netflix_data.csv')\n",
        "\n",
        "# Переглядаємо перші кілька рядків датасету\n",
        "print(df.head())\n",
        "\n",
        "# Перевіряємо наявність пропущених значень\n",
        "print(df.isnull().sum())\n",
        "\n",
        "# Очищення даних: видаляємо рядки з пропущеними значеннями у колонці 'listed_in'\n",
        "df = df.dropna(subset=['listed_in'])\n",
        "\n",
        "# Розділяємо жанри, якщо вони представлені як список через кому\n",
        "df['listed_in'] = df['listed_in'].str.split(', ')\n",
        "\n",
        "# Трансформуємо дані для аналізу: кожен жанр в окремому рядку\n",
        "genres_expanded = df.explode('listed_in')\n",
        "\n",
        "# Підрахунок кількості контенту за жанрами\n",
        "genre_counts = genres_expanded['listed_in'].value_counts()\n",
        "\n",
        "# Підрахунок кількості контенту за типами (фільми/шоу) та жанрами\n",
        "genre_type_counts = genres_expanded.groupby(['listed_in', 'type']).size().unstack(fill_value=0)\n",
        "\n",
        "# Візуалізація розподілу жанрів\n",
        "plt.figure(figsize=(12, 8))\n",
        "sns.barplot(x=genre_counts.values, y=genre_counts.index, palette='viridis')\n",
        "plt.title('Розподіл контенту за жанрами на Netflix')\n",
        "plt.xlabel('Кількість')\n",
        "plt.ylabel('Жанр')\n",
        "plt.show()\n",
        "\n",
        "# Візуалізація розподілу жанрів за типами контенту\n",
        "genre_type_counts.plot(kind='bar', stacked=True, figsize=(14, 8), colormap='viridis')\n",
        "plt.title('Розподіл жанрів за типами контенту на Netflix')\n",
        "plt.xlabel('Жанр')\n",
        "plt.ylabel('Кількість')\n",
        "plt.legend(title='Тип контенту')\n",
        "plt.show()\n"
      ]
    }
  ]
}